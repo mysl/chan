{
 "cells": [
  {
   "cell_type": "markdown",
   "metadata": {
    "pycharm": {
     "name": "#%% md\n"
    }
   },
   "source": [
    "## 使用 `czsc` 进行选股\n",
    "---\n"
   ]
  },
  {
   "cell_type": "code",
   "execution_count": 1,
   "metadata": {},
   "outputs": [
    {
     "name": "stdout",
     "output_type": "stream",
     "text": [
      "0.5.5\n"
     ]
    }
   ],
   "source": [
    "import sys\n",
    "sys.path.insert(0, \".\")\n",
    "sys.path.insert(0, \"..\")\n",
    "\n",
    "import czsc\n",
    "print(czsc.__version__)\n",
    "\n",
    "from datetime import datetime\n",
    "from typing import List\n",
    "import traceback\n",
    "import pandas as pd\n",
    "import numpy as np\n",
    "from tqdm import tqdm_notebook as tqdm\n",
    "from czsc.analyze import KlineAnalyze"
   ]
  },
  {
   "cell_type": "code",
   "execution_count": 2,
   "metadata": {},
   "outputs": [],
   "source": [
    "# 导入 Tushare 数据（推荐使用）\n",
    "from czsc.data.ts import *\n",
    "\n",
    "# 如果是第一次使用需要设置 token\n",
    "# set_token(\"trushare.pro token\")"
   ]
  },
  {
   "cell_type": "code",
   "execution_count": 6,
   "metadata": {
    "pycharm": {
     "name": "#%%\n"
    }
   },
   "outputs": [],
   "source": [
    "# 导入聚宽数据\n",
    "from czsc.data.jq import *\n",
    "\n",
    "# 如果是第一次使用需要设置 token\n",
    "# set_token(\"手机号\", \"密码\")"
   ]
  },
  {
   "cell_type": "markdown",
   "metadata": {
    "pycharm": {
     "name": "#%% md\n"
    }
   },
   "source": [
    "### 缠论日线笔中枢三买选股\n",
    "---\n",
    "\n",
    "条件描述： 最近五笔走势，前三笔构成中枢，第四笔离开中枢，第五笔向下不回中枢\n",
    "\n"
   ]
  },
  {
   "cell_type": "code",
   "execution_count": null,
   "metadata": {},
   "outputs": [],
   "source": [
    "def selector(symbols: List):\n",
    "    \"\"\"输入股票列表，输入符合买点定义的股票\"\"\"\n",
    "    res = []\n",
    "    for symbol in tqdm(symbols, desc=\"缠论日线笔中枢三买选股\"):\n",
    "        try:\n",
    "            kline = get_kline(symbol=symbol, end_date=datetime.now(), freq=\"D\", count=1000)\n",
    "            ka = KlineAnalyze(kline, ma_params=(5, 34, 120, 233), bi_mode=\"new\")\n",
    "            points = ka.bi_list[-6:]\n",
    "            \n",
    "            if len(points) == 6 and points[-1]['fx_mark'] == \"d\":\n",
    "                zs_g = min([x['bi'] for x in points[:4] if x['fx_mark'] == 'g'])\n",
    "                zs_d = max([x['bi'] for x in points[:4] if x['fx_mark'] == 'd'])\n",
    "                \n",
    "                if points[-1]['bi'] > zs_g > zs_d:\n",
    "                    res.append(symbol)\n",
    "                    \n",
    "        except:\n",
    "            print(\"{} 分析失败\".format(symbol))\n",
    "            traceback.print_exc()\n",
    "    return res"
   ]
  },
  {
   "cell_type": "markdown",
   "metadata": {},
   "source": [
    "### 日线笔中枢选股\n",
    "---\n",
    "\n",
    "中枢如果能当下确认，基本逻辑如下：\n",
    "1. ma 233<close<ma 60 ---得 codes_list1\n",
    "2. codes_list1中选择 符合日线笔中枢形态的，得codes_list2\n",
    "    * 2.1 笔中枢形态：方向下: 日线中枢完成，第四笔底分型\n",
    "3. codes_list2 中中枢第一笔到第四笔得日期跨度 date1\n",
    "4. date1时间跨度中，codes_list2 ma233 cross的个数，并标注 codes_list3"
   ]
  },
  {
   "cell_type": "code",
   "execution_count": 3,
   "metadata": {},
   "outputs": [
    {
     "name": "stdout",
     "output_type": "stream",
     "text": [
      "2\n"
     ]
    }
   ],
   "source": [
    "def cross_number(x1, x2):\n",
    "    \"\"\"输入两个序列，计算 x1 下穿 x2 的次数\"\"\"\n",
    "    x = np.array(x1) < np.array(x2)\n",
    "    num = 0\n",
    "    for i in range(len(x)-1):\n",
    "        b1, b2 = x[i], x[i+1]\n",
    "        if b2 and b1 != b2:\n",
    "            num += 1\n",
    "    return num\n",
    "\n",
    "x1 = [1, 1, 3, 4, 5, 12, 9, 8]\n",
    "x2 = [2, 2, 1, 5, 8, 9, 10, 3]\n",
    "print(cross_number(x1, x2))"
   ]
  },
  {
   "cell_type": "code",
   "execution_count": 4,
   "metadata": {},
   "outputs": [],
   "source": [
    "def selector(symbols: List):\n",
    "    \"\"\"输入股票列表，输入符合买点定义的股票\"\"\"\n",
    "    res = []\n",
    "    for symbol in tqdm(symbols, desc=\"缠论选股\"):\n",
    "        try:\n",
    "            kline = get_kline(symbol=symbol, end_date=datetime.now(), freq=\"D\", count=1000)\n",
    "            ka = KlineAnalyze(kline, ma_params=(5, 34, 60, 250), bi_mode=\"new\")\n",
    "\n",
    "            if ka.ma[-1]['ma60'] >= ka.latest_price >= ka.ma[-1]['ma250']:\n",
    "                # print(\"{} 满足条件1：ma60 > close > ma233\".format(symbol))\n",
    "                points = ka.bi_list[-7:]\n",
    "                \n",
    "                if len(points) == 7 and points[-1]['fx_mark'] == 'd':\n",
    "                    zs_g = min([x['bi'] for x in points[2:6] if x['fx_mark'] == 'g'])\n",
    "                    zs_d = max([x['bi'] for x in points[2:6] if x['fx_mark'] == 'd'])\n",
    "                    \n",
    "                    if zs_g > zs_d:\n",
    "                        # print(\"{} 满足条件2：向下中枢完成\".format(symbol))\n",
    "                        date_span = [points[-5]['dt'], points[-1]['dt']]\n",
    "                        low = [x['low'] for x in ka.kline_raw if date_span[1] >= x['dt'] >= date_span[0]]\n",
    "                        ma_ = [x['ma250'] for x in ka.ma if date_span[1] >= x['dt'] >= date_span[0]]\n",
    "                        num = cross_number(low, ma_)\n",
    "                        res.append({\"symbol\": symbol, \"cross_num\": num})\n",
    "        except:\n",
    "            print(\"{} 分析失败\".format(symbol))\n",
    "            traceback.print_exc()\n",
    "    return res"
   ]
  },
  {
   "cell_type": "markdown",
   "metadata": {},
   "source": [
    "## 执行选股\n",
    "---"
   ]
  },
  {
   "cell_type": "code",
   "execution_count": 5,
   "metadata": {
    "scrolled": false
   },
   "outputs": [
    {
     "data": {
      "application/vnd.jupyter.widget-view+json": {
       "model_id": "b1e39addcaf345339582d39a3cf97d2f",
       "version_major": 2,
       "version_minor": 0
      },
      "text/plain": [
       "HBox(children=(IntProgress(value=0, description='缠论选股', max=795, style=ProgressStyle(description_width='initia…"
      ]
     },
     "metadata": {},
     "output_type": "display_data"
    },
    {
     "name": "stderr",
     "output_type": "stream",
     "text": [
      "..\\czsc\\data\\ts.py:175: SettingWithCopyWarning: \n",
      "A value is trying to be set on a copy of a slice from a DataFrame.\n",
      "Try using .loc[row_indexer,col_indexer] = value instead\n",
      "\n",
      "See the caveats in the documentation: https://pandas.pydata.org/pandas-docs/stable/user_guide/indexing.html#returning-a-view-versus-a-copy\n",
      "  k[col] = k[col].apply(round, args=(2,))\n",
      "C:\\Users\\zengb\\Anaconda3\\lib\\site-packages\\ipykernel_launcher.py:3: RuntimeWarning: invalid value encountered in less\n",
      "  This is separate from the ipykernel package so we can avoid doing imports until\n"
     ]
    },
    {
     "name": "stdout",
     "output_type": "stream",
     "text": [
      "\n",
      "选股结果： [{'symbol': '300331.SZ-E', 'cross_num': 0}, {'symbol': '300327.SZ-E', 'cross_num': 0}, {'symbol': '300315.SZ-E', 'cross_num': 0}, {'symbol': '300314.SZ-E', 'cross_num': 0}, {'symbol': '300298.SZ-E', 'cross_num': 0}, {'symbol': '300294.SZ-E', 'cross_num': 1}, {'symbol': '300253.SZ-E', 'cross_num': 0}, {'symbol': '300246.SZ-E', 'cross_num': 0}, {'symbol': '300238.SZ-E', 'cross_num': 0}, {'symbol': '300236.SZ-E', 'cross_num': 0}, {'symbol': '300233.SZ-E', 'cross_num': 0}, {'symbol': '300212.SZ-E', 'cross_num': 0}, {'symbol': '300206.SZ-E', 'cross_num': 0}, {'symbol': '300183.SZ-E', 'cross_num': 1}, {'symbol': '300174.SZ-E', 'cross_num': 1}, {'symbol': '300171.SZ-E', 'cross_num': 1}, {'symbol': '300168.SZ-E', 'cross_num': 0}, {'symbol': '300151.SZ-E', 'cross_num': 0}, {'symbol': '300148.SZ-E', 'cross_num': 0}, {'symbol': '300146.SZ-E', 'cross_num': 0}, {'symbol': '300142.SZ-E', 'cross_num': 0}, {'symbol': '300138.SZ-E', 'cross_num': 0}, {'symbol': '300122.SZ-E', 'cross_num': 0}, {'symbol': '300119.SZ-E', 'cross_num': 0}, {'symbol': '300580.SZ-E', 'cross_num': 0}, {'symbol': '300575.SZ-E', 'cross_num': 0}, {'symbol': '300573.SZ-E', 'cross_num': 0}, {'symbol': '300560.SZ-E', 'cross_num': 0}, {'symbol': '300558.SZ-E', 'cross_num': 0}, {'symbol': '300557.SZ-E', 'cross_num': 0}, {'symbol': '300552.SZ-E', 'cross_num': 0}, {'symbol': '300548.SZ-E', 'cross_num': 0}, {'symbol': '300545.SZ-E', 'cross_num': 0}, {'symbol': '300531.SZ-E', 'cross_num': 0}, {'symbol': '300530.SZ-E', 'cross_num': 0}, {'symbol': '300529.SZ-E', 'cross_num': 0}, {'symbol': '300521.SZ-E', 'cross_num': 0}, {'symbol': '300511.SZ-E', 'cross_num': 0}, {'symbol': '300502.SZ-E', 'cross_num': 0}, {'symbol': '300501.SZ-E', 'cross_num': 0}, {'symbol': '300497.SZ-E', 'cross_num': 0}, {'symbol': '300496.SZ-E', 'cross_num': 0}, {'symbol': '300494.SZ-E', 'cross_num': 0}, {'symbol': '300489.SZ-E', 'cross_num': 0}, {'symbol': '300486.SZ-E', 'cross_num': 0}, {'symbol': '300482.SZ-E', 'cross_num': 0}, {'symbol': '300481.SZ-E', 'cross_num': 0}, {'symbol': '300476.SZ-E', 'cross_num': 0}, {'symbol': '300474.SZ-E', 'cross_num': 0}, {'symbol': '300465.SZ-E', 'cross_num': 0}, {'symbol': '300464.SZ-E', 'cross_num': 0}, {'symbol': '300785.SZ-E', 'cross_num': 1}, {'symbol': '300782.SZ-E', 'cross_num': 0}, {'symbol': '300778.SZ-E', 'cross_num': 1}, {'symbol': '300770.SZ-E', 'cross_num': 0}, {'symbol': '300768.SZ-E', 'cross_num': 1}, {'symbol': '300765.SZ-E', 'cross_num': 0}, {'symbol': '300762.SZ-E', 'cross_num': 0}, {'symbol': '300759.SZ-E', 'cross_num': 0}, {'symbol': '300758.SZ-E', 'cross_num': 0}, {'symbol': '300755.SZ-E', 'cross_num': 0}, {'symbol': '300749.SZ-E', 'cross_num': 4}, {'symbol': '300747.SZ-E', 'cross_num': 2}, {'symbol': '300741.SZ-E', 'cross_num': 0}, {'symbol': '300740.SZ-E', 'cross_num': 0}, {'symbol': '300738.SZ-E', 'cross_num': 0}, {'symbol': '300737.SZ-E', 'cross_num': 0}, {'symbol': '300725.SZ-E', 'cross_num': 0}, {'symbol': '300723.SZ-E', 'cross_num': 0}, {'symbol': '300702.SZ-E', 'cross_num': 0}, {'symbol': '300701.SZ-E', 'cross_num': 0}, {'symbol': '300693.SZ-E', 'cross_num': 0}, {'symbol': '300685.SZ-E', 'cross_num': 0}, {'symbol': '300683.SZ-E', 'cross_num': 0}, {'symbol': '300677.SZ-E', 'cross_num': 0}, {'symbol': '300675.SZ-E', 'cross_num': 0}, {'symbol': '300674.SZ-E', 'cross_num': 0}, {'symbol': '300673.SZ-E', 'cross_num': 0}, {'symbol': '300666.SZ-E', 'cross_num': 0}, {'symbol': '300663.SZ-E', 'cross_num': 0}, {'symbol': '300662.SZ-E', 'cross_num': 0}, {'symbol': '300661.SZ-E', 'cross_num': 0}, {'symbol': '300655.SZ-E', 'cross_num': 1}, {'symbol': '300653.SZ-E', 'cross_num': 0}, {'symbol': '300639.SZ-E', 'cross_num': 0}, {'symbol': '300638.SZ-E', 'cross_num': 0}, {'symbol': '300635.SZ-E', 'cross_num': 0}, {'symbol': '300630.SZ-E', 'cross_num': 2}, {'symbol': '300629.SZ-E', 'cross_num': 0}, {'symbol': '300627.SZ-E', 'cross_num': 0}, {'symbol': '300624.SZ-E', 'cross_num': 0}, {'symbol': '300620.SZ-E', 'cross_num': 0}, {'symbol': '300618.SZ-E', 'cross_num': 0}, {'symbol': '300612.SZ-E', 'cross_num': 0}, {'symbol': '300607.SZ-E', 'cross_num': 0}, {'symbol': '300601.SZ-E', 'cross_num': 0}, {'symbol': '300595.SZ-E', 'cross_num': 0}, {'symbol': '300463.SZ-E', 'cross_num': 0}, {'symbol': '300460.SZ-E', 'cross_num': 0}, {'symbol': '300458.SZ-E', 'cross_num': 0}, {'symbol': '300456.SZ-E', 'cross_num': 0}, {'symbol': '300454.SZ-E', 'cross_num': 0}, {'symbol': '300453.SZ-E', 'cross_num': 0}, {'symbol': '300452.SZ-E', 'cross_num': 0}, {'symbol': '300441.SZ-E', 'cross_num': 1}, {'symbol': '300439.SZ-E', 'cross_num': 0}, {'symbol': '300428.SZ-E', 'cross_num': 0}, {'symbol': '300408.SZ-E', 'cross_num': 0}, {'symbol': '300401.SZ-E', 'cross_num': 0}, {'symbol': '300400.SZ-E', 'cross_num': 1}, {'symbol': '300395.SZ-E', 'cross_num': 0}, {'symbol': '300394.SZ-E', 'cross_num': 0}, {'symbol': '300390.SZ-E', 'cross_num': 0}, {'symbol': '300381.SZ-E', 'cross_num': 0}, {'symbol': '300374.SZ-E', 'cross_num': 0}, {'symbol': '300364.SZ-E', 'cross_num': 0}, {'symbol': '300363.SZ-E', 'cross_num': 0}, {'symbol': '300357.SZ-E', 'cross_num': 0}, {'symbol': '300351.SZ-E', 'cross_num': 1}, {'symbol': '300349.SZ-E', 'cross_num': 0}, {'symbol': '300347.SZ-E', 'cross_num': 0}, {'symbol': '300097.SZ-E', 'cross_num': 0}, {'symbol': '300085.SZ-E', 'cross_num': 0}, {'symbol': '300075.SZ-E', 'cross_num': 0}, {'symbol': '300059.SZ-E', 'cross_num': 0}, {'symbol': '300045.SZ-E', 'cross_num': 0}, {'symbol': '300041.SZ-E', 'cross_num': 0}, {'symbol': '300034.SZ-E', 'cross_num': 0}, {'symbol': '300033.SZ-E', 'cross_num': 0}, {'symbol': '300031.SZ-E', 'cross_num': 0}, {'symbol': '300030.SZ-E', 'cross_num': 0}, {'symbol': '300023.SZ-E', 'cross_num': 0}, {'symbol': '300019.SZ-E', 'cross_num': 0}, {'symbol': '300014.SZ-E', 'cross_num': 0}, {'symbol': '300013.SZ-E', 'cross_num': 2}, {'symbol': '300012.SZ-E', 'cross_num': 0}, {'symbol': '300009.SZ-E', 'cross_num': 0}]\n"
     ]
    }
   ],
   "source": [
    "# 使用 tushare 数据在创业板综指上选股\n",
    "symbols = get_index_stocks(\"399006.SZ\")\n",
    "selected = selector(symbols)\n",
    "\n",
    "print(\"选股结果：\", selected)\n",
    "# df = pd.DataFrame(selected)\n",
    "# df.to_excel(\"选股结果.xlsx\", index=False)"
   ]
  },
  {
   "cell_type": "code",
   "execution_count": 8,
   "metadata": {},
   "outputs": [
    {
     "data": {
      "application/vnd.jupyter.widget-view+json": {
       "model_id": "d75036a66c4f4a85999bc9705f0be081",
       "version_major": 2,
       "version_minor": 0
      },
      "text/plain": [
       "HBox(children=(IntProgress(value=0, description='缠论选股', style=ProgressStyle(description_width='initial')), HTM…"
      ]
     },
     "metadata": {},
     "output_type": "display_data"
    },
    {
     "name": "stdout",
     "output_type": "stream",
     "text": [
      "\n",
      "选股结果： [{'symbol': '300033.XSHE', 'cross_num': 0}, {'symbol': '300070.XSHE', 'cross_num': 0}, {'symbol': '300122.XSHE', 'cross_num': 0}, {'symbol': '300142.XSHE', 'cross_num': 0}, {'symbol': '300168.XSHE', 'cross_num': 0}, {'symbol': '300294.XSHE', 'cross_num': 1}, {'symbol': '300315.XSHE', 'cross_num': 0}, {'symbol': '300324.XSHE', 'cross_num': 8}, {'symbol': '300383.XSHE', 'cross_num': 1}, {'symbol': '300408.XSHE', 'cross_num': 0}, {'symbol': '300413.XSHE', 'cross_num': 0}, {'symbol': '300454.XSHE', 'cross_num': 0}, {'symbol': '300463.XSHE', 'cross_num': 0}, {'symbol': '300474.XSHE', 'cross_num': 0}, {'symbol': '300476.XSHE', 'cross_num': 0}, {'symbol': '300482.XSHE', 'cross_num': 0}, {'symbol': '300496.XSHE', 'cross_num': 0}, {'symbol': '300558.XSHE', 'cross_num': 0}, {'symbol': '300601.XSHE', 'cross_num': 0}, {'symbol': '300618.XSHE', 'cross_num': 0}, {'symbol': '300661.XSHE', 'cross_num': 1}, {'symbol': '300666.XSHE', 'cross_num': 0}, {'symbol': '300674.XSHE', 'cross_num': 0}, {'symbol': '300741.XSHE', 'cross_num': 0}, {'symbol': '300759.XSHE', 'cross_num': 0}, {'symbol': '300760.XSHE', 'cross_num': 0}, {'symbol': '300768.XSHE', 'cross_num': 1}]\n"
     ]
    }
   ],
   "source": [
    "# 使用聚宽数据在创业板综指上选股\n",
    "symbols = get_index_stocks(\"399006.XSHE\")\n",
    "selected = selector(symbols)\n",
    "\n",
    "print(\"选股结果：\", selected)\n",
    "# df = pd.DataFrame(selected)\n",
    "# df.to_excel(\"选股结果.xlsx\", index=False)"
   ]
  },
  {
   "cell_type": "code",
   "execution_count": null,
   "metadata": {},
   "outputs": [],
   "source": []
  },
  {
   "cell_type": "code",
   "execution_count": null,
   "metadata": {},
   "outputs": [],
   "source": []
  }
 ],
 "metadata": {
  "kernelspec": {
   "display_name": "Python 3",
   "language": "python",
   "name": "python3"
  },
  "language_info": {
   "codemirror_mode": {
    "name": "ipython",
    "version": 3
   },
   "file_extension": ".py",
   "mimetype": "text/x-python",
   "name": "python",
   "nbconvert_exporter": "python",
   "pygments_lexer": "ipython3",
   "version": "3.7.3"
  }
 },
 "nbformat": 4,
 "nbformat_minor": 1
}
